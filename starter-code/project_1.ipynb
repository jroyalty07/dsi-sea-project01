{
 "cells": [
  {
   "cell_type": "markdown",
   "metadata": {},
   "source": [
    "# Project 1\n",
    "\n",
    "## Step 1: Open the `sat_scores.csv` file. Investigate the data, and answer the questions below.\n"
   ]
  },
  {
   "cell_type": "markdown",
   "metadata": {},
   "source": [
    "##### 1. What does the data describe?"
   ]
  },
  {
   "cell_type": "markdown",
   "metadata": {},
   "source": [
    "It shows avg SAT scores for MAth/Verbal as well as the rate of participation, all by state."
   ]
  },
  {
   "cell_type": "markdown",
   "metadata": {},
   "source": [
    "##### 2. Does the data look complete? Are there any obvious issues with the observations?"
   ]
  },
  {
   "cell_type": "markdown",
   "metadata": {},
   "source": [
    "The data looks complete. "
   ]
  },
  {
   "cell_type": "markdown",
   "metadata": {},
   "source": [
    "##### 3. Create a data dictionary for the dataset."
   ]
  },
  {
   "cell_type": "markdown",
   "metadata": {
    "collapsed": true
   },
   "source": [
    "Using Pandas.."
   ]
  },
  {
   "cell_type": "markdown",
   "metadata": {},
   "source": [
    "## Step 2: Load the data."
   ]
  },
  {
   "cell_type": "markdown",
   "metadata": {},
   "source": [
    "##### 4. Load the data into a list of lists"
   ]
  },
  {
   "cell_type": "code",
   "execution_count": 6,
   "metadata": {
    "collapsed": false
   },
   "outputs": [],
   "source": [
    "# Numeric and statistics packages:\n",
    "import numpy as np\n",
    "import scipy.stats as stats\n",
    "\n",
    "# Pandas handles dataset loading and manipulation:\n",
    "import pandas as pd\n",
    "\n",
    "# import the plotting functions:\n",
    "import matplotlib.pyplot as plt\n",
    "\n",
    "# Setup matplotlib to display in notebook:\n",
    "%matplotlib inline\n",
    "\n",
    "scores = pd.read_csv('sat_scores.csv')"
   ]
  },
  {
   "cell_type": "markdown",
   "metadata": {},
   "source": [
    "##### 5. Print the data"
   ]
  },
  {
   "cell_type": "code",
   "execution_count": 7,
   "metadata": {
    "collapsed": false
   },
   "outputs": [
    {
     "name": "stdout",
     "output_type": "stream",
     "text": [
      "   State  Rate  Verbal  Math\n",
      "0     CT    82     509   510\n",
      "1     NJ    81     499   513\n",
      "2     MA    79     511   515\n",
      "3     NY    77     495   505\n",
      "4     NH    72     520   516\n",
      "5     RI    71     501   499\n",
      "6     PA    71     500   499\n",
      "7     VT    69     511   506\n",
      "8     ME    69     506   500\n",
      "9     VA    68     510   501\n",
      "10    DE    67     501   499\n",
      "11    MD    65     508   510\n",
      "12    NC    65     493   499\n",
      "13    GA    63     491   489\n",
      "14    IN    60     499   501\n",
      "15    SC    57     486   488\n",
      "16    DC    56     482   474\n",
      "17    OR    55     526   526\n",
      "18    FL    54     498   499\n",
      "19    WA    53     527   527\n",
      "20    TX    53     493   499\n",
      "21    HI    52     485   515\n",
      "22    AK    51     514   510\n",
      "23    CA    51     498   517\n",
      "24    AZ    34     523   525\n",
      "25    NV    33     509   515\n",
      "26    CO    31     539   542\n",
      "27    OH    26     534   439\n",
      "28    MT    23     539   539\n",
      "29    WV    18     527   512\n",
      "30    ID    17     543   542\n",
      "31    TN    13     562   553\n",
      "32    NM    13     551   542\n",
      "33    IL    12     576   589\n",
      "34    KY    12     550   550\n",
      "35    WY    11     547   545\n",
      "36    MI    11     561   572\n",
      "37    MN     9     580   589\n",
      "38    KS     9     577   580\n",
      "39    AL     9     559   554\n",
      "40    NE     8     562   568\n",
      "41    OK     8     567   561\n",
      "42    MO     8     577   577\n",
      "43    LA     7     564   562\n",
      "44    WI     6     584   596\n",
      "45    AR     6     562   550\n",
      "46    UT     5     575   570\n",
      "47    IA     5     593   603\n",
      "48    SD     4     577   582\n",
      "49    ND     4     592   599\n",
      "50    MS     4     566   551\n",
      "51   All    45     506   514\n"
     ]
    }
   ],
   "source": [
    "print scores"
   ]
  },
  {
   "cell_type": "markdown",
   "metadata": {
    "collapsed": true
   },
   "source": [
    "##### 6. Extract a list of the labels from the data, and remove them from the data."
   ]
  },
  {
   "cell_type": "code",
   "execution_count": null,
   "metadata": {
    "collapsed": false
   },
   "outputs": [],
   "source": [
    "'''\n",
    "Using Pandas\n",
    "'''"
   ]
  },
  {
   "cell_type": "markdown",
   "metadata": {},
   "source": [
    "##### 7. Create a list of State names extracted from the data. (Hint: use the list of labels to index on the State column)"
   ]
  },
  {
   "cell_type": "code",
   "execution_count": 34,
   "metadata": {
    "collapsed": false
   },
   "outputs": [
    {
     "name": "stdout",
     "output_type": "stream",
     "text": [
      "['CT', 'NJ', 'MA', 'NY', 'NH', 'RI', 'PA', 'VT', 'ME', 'VA', 'DE', 'MD', 'NC', 'GA', 'IN', 'SC', 'DC', 'OR', 'FL', 'WA', 'TX', 'HI', 'AK', 'CA', 'AZ', 'NV', 'CO', 'OH', 'MT', 'WV', 'ID', 'TN', 'NM', 'IL', 'KY', 'WY', 'MI', 'MN', 'KS', 'AL', 'NE', 'OK', 'MO', 'LA', 'WI', 'AR', 'UT', 'IA', 'SD', 'ND', 'MS', 'All']\n"
     ]
    }
   ],
   "source": [
    "state_names = [x for x in scores['State']]\n",
    "print state_names"
   ]
  },
  {
   "cell_type": "markdown",
   "metadata": {},
   "source": [
    "##### 8. Print the types of each column"
   ]
  },
  {
   "cell_type": "code",
   "execution_count": 35,
   "metadata": {
    "collapsed": false
   },
   "outputs": [
    {
     "name": "stdout",
     "output_type": "stream",
     "text": [
      "object\n",
      "int64\n",
      "int64\n",
      "int64\n"
     ]
    }
   ],
   "source": [
    "print scores['State'].dtype\n",
    "print scores['Rate'].dtype\n",
    "print scores['Math'].dtype\n",
    "print scores['Verbal'].dtype"
   ]
  },
  {
   "cell_type": "markdown",
   "metadata": {},
   "source": [
    "##### 9. Do any types need to be reassigned? If so, go ahead and do it."
   ]
  },
  {
   "cell_type": "code",
   "execution_count": null,
   "metadata": {
    "collapsed": false
   },
   "outputs": [],
   "source": []
  },
  {
   "cell_type": "markdown",
   "metadata": {},
   "source": [
    "##### 10. Create a dictionary for each column mapping the State to its respective value for that column. "
   ]
  },
  {
   "cell_type": "code",
   "execution_count": 53,
   "metadata": {
    "collapsed": false
   },
   "outputs": [
    {
     "data": {
      "text/plain": [
       "'\\n\\nprint rate_by_state\\nprint math_by_state\\nprint verbal_by_state\\n\\n'"
      ]
     },
     "execution_count": 53,
     "metadata": {},
     "output_type": "execute_result"
    }
   ],
   "source": [
    "def column_by_state(column):\n",
    "    newdict = {}\n",
    "    s = 0\n",
    "    for x in scores[column]:\n",
    "        newdict[state_names[s]] = x\n",
    "        s += 1\n",
    "    return newdict\n",
    "\n",
    "rate_by_state = column_by_state('Rate')\n",
    "math_by_state = column_by_state('Math')\n",
    "verbal_by_state = column_by_state('Verbal')\n",
    "\n",
    "#output\n",
    "'''\n",
    "print rate_by_state\n",
    "print math_by_state\n",
    "print verbal_by_state\n",
    "\n",
    "'''\n"
   ]
  },
  {
   "cell_type": "markdown",
   "metadata": {},
   "source": [
    "##### 11. Create a dictionary with the values for each of the numeric columns"
   ]
  },
  {
   "cell_type": "code",
   "execution_count": 59,
   "metadata": {
    "collapsed": false
   },
   "outputs": [],
   "source": [
    "values_dict = {}\n",
    "for column in scores.columns:\n",
    "    values_dict[column] = scores[column]\n",
    "    \n",
    "#print values_dict  "
   ]
  },
  {
   "cell_type": "markdown",
   "metadata": {},
   "source": [
    "## Step 3: Describe the data"
   ]
  },
  {
   "cell_type": "markdown",
   "metadata": {},
   "source": [
    "##### 12. Print the min and max of each column\n"
   ]
  },
  {
   "cell_type": "code",
   "execution_count": 70,
   "metadata": {
    "collapsed": false
   },
   "outputs": [
    {
     "name": "stdout",
     "output_type": "stream",
     "text": [
      "State min: AK\n",
      "State max: WY\n",
      "Rate min: 4\n",
      "Rate max: 82\n",
      "Verbal min: 482\n",
      "Verbal max: 593\n",
      "Math min: 439\n",
      "Math max: 603\n"
     ]
    },
    {
     "data": {
      "text/plain": [
       "[None, None, None, None]"
      ]
     },
     "execution_count": 70,
     "metadata": {},
     "output_type": "execute_result"
    }
   ],
   "source": [
    "def min_max(column):\n",
    "    print '%s min: %s' % (column, min(scores[column]))\n",
    "    print '%s max: %s' % (column, max(scores[column]))\n",
    "    \n",
    "[min_max(x) for x in scores.columns]\n"
   ]
  },
  {
   "cell_type": "markdown",
   "metadata": {},
   "source": [
    "##### 13. Write a function using only list comprehensions, no loops, to compute Standard Deviation. Print the Standard Deviation of each numeric column."
   ]
  },
  {
   "cell_type": "code",
   "execution_count": 72,
   "metadata": {
    "collapsed": false
   },
   "outputs": [
    {
     "name": "stdout",
     "output_type": "stream",
     "text": [
      "27.0379964945\n",
      "35.6669961643\n",
      "32.9150949616\n"
     ]
    }
   ],
   "source": [
    "\n",
    "variance = lambda arr: (sum([(x - np.mean(arr))**2 for x in arr])) / float(len(arr))\n",
    "std_dev = lambda x: np.sqrt(variance(x))\n",
    "\n",
    "print std_dev(scores['Rate'])\n",
    "print std_dev(scores['Math'])\n",
    "print std_dev(scores['Verbal'])\n"
   ]
  },
  {
   "cell_type": "markdown",
   "metadata": {},
   "source": [
    "## Step 4: Visualize the data"
   ]
  },
  {
   "cell_type": "markdown",
   "metadata": {
    "collapsed": true
   },
   "source": [
    "##### 14. Using MatPlotLib and PyPlot, plot the distribution of the Rate using histograms."
   ]
  },
  {
   "cell_type": "code",
   "execution_count": 73,
   "metadata": {
    "collapsed": false
   },
   "outputs": [
    {
     "data": {
      "text/plain": [
       "(array([ 16.,   6.,   2.,   3.,   0.,   1.,   9.,   4.,   7.,   4.]),\n",
       " array([  4. ,  11.8,  19.6,  27.4,  35.2,  43. ,  50.8,  58.6,  66.4,\n",
       "         74.2,  82. ]),\n",
       " <a list of 10 Patch objects>)"
      ]
     },
     "execution_count": 73,
     "metadata": {},
     "output_type": "execute_result"
    },
    {
     "data": {
      "image/png": "[encoded data removed]",
      "text/plain": [
       "<matplotlib.figure.Figure at 0x113c0cad0>"
      ]
     },
     "metadata": {},
     "output_type": "display_data"
    }
   ],
   "source": [
    "#plt\n",
    "\n",
    "plt.hist(scores['Rate'])\n"
   ]
  },
  {
   "cell_type": "markdown",
   "metadata": {},
   "source": [
    "##### 15. Plot the Math distribution"
   ]
  },
  {
   "cell_type": "code",
   "execution_count": 74,
   "metadata": {
    "collapsed": false
   },
   "outputs": [
    {
     "data": {
      "text/plain": [
       "(array([  1.,   0.,   2.,  10.,  13.,   3.,   9.,   5.,   4.,   5.]),\n",
       " array([ 439. ,  455.4,  471.8,  488.2,  504.6,  521. ,  537.4,  553.8,\n",
       "         570.2,  586.6,  603. ]),\n",
       " <a list of 10 Patch objects>)"
      ]
     },
     "execution_count": 74,
     "metadata": {},
     "output_type": "execute_result"
    },
    {
     "data": {
      "image/png": "[encoded data removed]",
      "text/plain": [
       "<matplotlib.figure.Figure at 0x113d873d0>"
      ]
     },
     "metadata": {},
     "output_type": "display_data"
    }
   ],
   "source": [
    "plt.hist(scores['Math'])"
   ]
  },
  {
   "cell_type": "markdown",
   "metadata": {},
   "source": [
    "##### 16. Plot the Verbal distribution"
   ]
  },
  {
   "cell_type": "code",
   "execution_count": 75,
   "metadata": {
    "collapsed": false
   },
   "outputs": [
    {
     "data": {
      "text/plain": [
       "(array([ 6.,  8.,  9.,  3.,  3.,  4.,  3.,  7.,  6.,  3.]),\n",
       " array([ 482. ,  493.1,  504.2,  515.3,  526.4,  537.5,  548.6,  559.7,\n",
       "         570.8,  581.9,  593. ]),\n",
       " <a list of 10 Patch objects>)"
      ]
     },
     "execution_count": 75,
     "metadata": {},
     "output_type": "execute_result"
    },
    {
     "data": {
      "image/png": "[encoded data removed]",
      "text/plain": [
       "<matplotlib.figure.Figure at 0x1149f52d0>"
      ]
     },
     "metadata": {},
     "output_type": "display_data"
    }
   ],
   "source": [
    "plt.hist(scores['Verbal'])"
   ]
  },
  {
   "cell_type": "markdown",
   "metadata": {},
   "source": [
    "##### 17. What is the typical assumption for data distribution?"
   ]
  },
  {
   "cell_type": "code",
   "execution_count": null,
   "metadata": {
    "collapsed": false
   },
   "outputs": [],
   "source": [
    "# That it is a normal distribution"
   ]
  },
  {
   "cell_type": "markdown",
   "metadata": {},
   "source": [
    "##### 18. Does that distribution hold true for our data?"
   ]
  },
  {
   "cell_type": "code",
   "execution_count": null,
   "metadata": {
    "collapsed": false
   },
   "outputs": [],
   "source": [
    "'''\n",
    "\n",
    "No, the data is not evenly distributed around the mean in a bell shape.\n",
    "\n",
    "'''\n",
    "\n"
   ]
  },
  {
   "cell_type": "markdown",
   "metadata": {},
   "source": [
    "##### 19. Plot some scatterplots. **BONUS**: Use a PyPlot `figure` to present multiple plots at once."
   ]
  },
  {
   "cell_type": "code",
   "execution_count": 98,
   "metadata": {
    "collapsed": false
   },
   "outputs": [
    {
     "data": {
      "image/png": "[encoded data removed]",
      "text/plain": [
       "<matplotlib.figure.Figure at 0x1167d2110>"
      ]
     },
     "metadata": {},
     "output_type": "display_data"
    }
   ],
   "source": [
    "fig = plt.figure()\n",
    "\n",
    "ax1 = fig.add_subplot(211)\n",
    "ax1.set_title(\"Rate vs Math\")\n",
    "ax1.scatter(scores['Rate'], scores['Math'])\n",
    "\n",
    "ax2 = fig.add_subplot(212)\n",
    "ax2.set_title(\"Rate vs Verbal\")\n",
    "ax2.scatter(scores['Rate'], scores['Verbal'])\n",
    "\n",
    "plt.show()\n",
    "#plt.scatter(scores['Rate'], scores['Math'])\n",
    "\n"
   ]
  },
  {
   "cell_type": "markdown",
   "metadata": {},
   "source": [
    "##### 20. Are there any interesting relationships to note?"
   ]
  },
  {
   "cell_type": "code",
   "execution_count": 103,
   "metadata": {
    "collapsed": false
   },
   "outputs": [
    {
     "data": {
      "text/plain": [
       "\"\\nMath/Verbal scores have a negative relationship with the rate of participation. As \\nparticipation increases, the average score decreases.\\n\\nStates with the lowest participation probably don't use the SAT as a standard test very often.\\nAny student taking the SAT optionally from that area would be a top performer.\\n\\nThus, as you increase participation you bring the average score in the data\\ndown, towards what the avg SAT score in a normal distribution would look like.\\n\\nIf the participation rates were the same we should see a normally distributed average score.\\n\\n\""
      ]
     },
     "execution_count": 103,
     "metadata": {},
     "output_type": "execute_result"
    }
   ],
   "source": [
    "'''\n",
    "Math/Verbal scores have a negative relationship with the rate of participation. As \n",
    "participation increases, the average score decreases.\n",
    "\n",
    "States with the lowest participation probably don't use the SAT as a standard test very often.\n",
    "Any student taking the SAT optionally from that area would be a top performer.\n",
    "\n",
    "Thus, as you increase participation you bring the average score in the data\n",
    "down, towards what the avg SAT score in a normal distribution would look like.\n",
    "\n",
    "If the participation rates were the same we should see a normally distributed average score.\n",
    "\n",
    "'''"
   ]
  },
  {
   "cell_type": "markdown",
   "metadata": {},
   "source": [
    "##### 21. Create box plots for each variable. "
   ]
  },
  {
   "cell_type": "code",
   "execution_count": 104,
   "metadata": {
    "collapsed": false
   },
   "outputs": [
    {
     "data": {
      "text/plain": [
       "{'boxes': [<matplotlib.lines.Line2D at 0x117d088d0>],\n",
       " 'caps': [<matplotlib.lines.Line2D at 0x117694750>,\n",
       "  <matplotlib.lines.Line2D at 0x117694d90>],\n",
       " 'fliers': [<matplotlib.lines.Line2D at 0x1176b2a50>],\n",
       " 'means': [],\n",
       " 'medians': [<matplotlib.lines.Line2D at 0x1176b2410>],\n",
       " 'whiskers': [<matplotlib.lines.Line2D at 0x117d08a10>,\n",
       "  <matplotlib.lines.Line2D at 0x117694110>]}"
      ]
     },
     "execution_count": 104,
     "metadata": {},
     "output_type": "execute_result"
    },
    {
     "data": {
      "image/png": "[encoded data removed]",
      "text/plain": [
       "<matplotlib.figure.Figure at 0x117964050>"
      ]
     },
     "metadata": {},
     "output_type": "display_data"
    }
   ],
   "source": [
    "plt.boxplot(scores['Rate'])\n"
   ]
  },
  {
   "cell_type": "code",
   "execution_count": 105,
   "metadata": {
    "collapsed": false
   },
   "outputs": [
    {
     "data": {
      "text/plain": [
       "{'boxes': [<matplotlib.lines.Line2D at 0x11670d7d0>],\n",
       " 'caps': [<matplotlib.lines.Line2D at 0x116734650>,\n",
       "  <matplotlib.lines.Line2D at 0x116734c90>],\n",
       " 'fliers': [<matplotlib.lines.Line2D at 0x116490950>],\n",
       " 'means': [],\n",
       " 'medians': [<matplotlib.lines.Line2D at 0x116490310>],\n",
       " 'whiskers': [<matplotlib.lines.Line2D at 0x11670d910>,\n",
       "  <matplotlib.lines.Line2D at 0x11670dfd0>]}"
      ]
     },
     "execution_count": 105,
     "metadata": {},
     "output_type": "execute_result"
    },
    {
     "data": {
      "image/png": "[encoded data removed]",
      "text/plain": [
       "<matplotlib.figure.Figure at 0x117441610>"
      ]
     },
     "metadata": {},
     "output_type": "display_data"
    }
   ],
   "source": [
    "plt.boxplot(scores['Math'])"
   ]
  },
  {
   "cell_type": "code",
   "execution_count": 106,
   "metadata": {
    "collapsed": false
   },
   "outputs": [
    {
     "data": {
      "text/plain": [
       "{'boxes': [<matplotlib.lines.Line2D at 0x117d6a990>],\n",
       " 'caps': [<matplotlib.lines.Line2D at 0x11790d810>,\n",
       "  <matplotlib.lines.Line2D at 0x11790de50>],\n",
       " 'fliers': [<matplotlib.lines.Line2D at 0x117916b10>],\n",
       " 'means': [],\n",
       " 'medians': [<matplotlib.lines.Line2D at 0x1179164d0>],\n",
       " 'whiskers': [<matplotlib.lines.Line2D at 0x117d6aad0>,\n",
       "  <matplotlib.lines.Line2D at 0x11790d1d0>]}"
      ]
     },
     "execution_count": 106,
     "metadata": {},
     "output_type": "execute_result"
    },
    {
     "data": {
      "image/png": "[encoded data removed]",
      "text/plain": [
       "<matplotlib.figure.Figure at 0x117bd5190>"
      ]
     },
     "metadata": {},
     "output_type": "display_data"
    }
   ],
   "source": [
    "\n",
    "plt.boxplot(scores['Verbal'])"
   ]
  },
  {
   "cell_type": "markdown",
   "metadata": {},
   "source": [
    "##### BONUS: Using Tableau, create a heat map for each variable using a map of the US. "
   ]
  },
  {
   "cell_type": "code",
   "execution_count": null,
   "metadata": {
    "collapsed": true
   },
   "outputs": [],
   "source": []
  }
 ],
 "metadata": {
  "anaconda-cloud": {},
  "kernelspec": {
   "display_name": "Python [default]",
   "language": "python",
   "name": "python2"
  },
  "language_info": {
   "codemirror_mode": {
    "name": "ipython",
    "version": 2
   },
   "file_extension": ".py",
   "mimetype": "text/x-python",
   "name": "python",
   "nbconvert_exporter": "python",
   "pygments_lexer": "ipython2",
   "version": "2.7.12"
  }
 },
 "nbformat": 4,
 "nbformat_minor": 0
}
